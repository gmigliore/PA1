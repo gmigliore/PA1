{
 "cells": [
  {
   "cell_type": "markdown",
   "id": "463595b0",
   "metadata": {},
   "source": [
    "PA1\n",
    "\n",
    "Gabriel Migliore\n",
    "\n",
    "Version 1.0\n",
    "\n",
    "Fall 2021"
   ]
  },
  {
   "cell_type": "code",
   "execution_count": 24,
   "id": "91f4c146",
   "metadata": {},
   "outputs": [
    {
     "name": "stdout",
     "output_type": "stream",
     "text": [
      "Enter a Floating Point Number for A\n",
      "5.5\n",
      "Enter a Integer Number for B\n",
      "5\n",
      "The Sum is  10.5\n",
      "The type of result is  <class 'float'>\n",
      "The difference is  0.5\n",
      "The type of result is  <class 'float'>\n",
      "The product is  27.5\n",
      "The type of result is  <class 'float'>\n",
      "The Quotient is  1.1\n",
      "The type of result is  <class 'float'>\n"
     ]
    }
   ],
   "source": [
    "print(\"Enter a Floating Point Number for A\")\n",
    "a=input()\n",
    "print(\"Enter a Integer Number for B\")\n",
    "b=input()\n",
    "a=float(a)\n",
    "b=int(b)\n",
    "c=a+b\n",
    "print(\"The Sum is \",c)\n",
    "print(\"The type of result is \",type(c))\n",
    "c=a-b\n",
    "print(\"The difference is \",c)\n",
    "print(\"The type of result is \",type(c))\n",
    "c=a*b\n",
    "print(\"The product is \",c)\n",
    "print(\"The type of result is \",type(c))\n",
    "c=a/b\n",
    "print(\"The Quotient is \",c)\n",
    "print(\"The type of result is \",type(c))"
   ]
  },
  {
   "cell_type": "code",
   "execution_count": 18,
   "id": "0a54a25e",
   "metadata": {},
   "outputs": [
    {
     "ename": "ValueError",
     "evalue": "invalid literal for int() with base 10: '5.'",
     "output_type": "error",
     "traceback": [
      "\u001b[1;31m---------------------------------------------------------------------------\u001b[0m",
      "\u001b[1;31mValueError\u001b[0m                                Traceback (most recent call last)",
      "\u001b[1;32m<ipython-input-18-393e6b723bda>\u001b[0m in \u001b[0;36m<module>\u001b[1;34m\u001b[0m\n\u001b[0;32m      1\u001b[0m \u001b[0ma\u001b[0m\u001b[1;33m=\u001b[0m\u001b[0mfloat\u001b[0m\u001b[1;33m(\u001b[0m\u001b[0ma\u001b[0m\u001b[1;33m)\u001b[0m\u001b[1;33m\u001b[0m\u001b[1;33m\u001b[0m\u001b[0m\n\u001b[1;32m----> 2\u001b[1;33m \u001b[0mb\u001b[0m\u001b[1;33m=\u001b[0m\u001b[0mint\u001b[0m\u001b[1;33m(\u001b[0m\u001b[0mb\u001b[0m\u001b[1;33m)\u001b[0m\u001b[1;33m\u001b[0m\u001b[1;33m\u001b[0m\u001b[0m\n\u001b[0m",
      "\u001b[1;31mValueError\u001b[0m: invalid literal for int() with base 10: '5.'"
     ]
    }
   ],
   "source": [
    "a=float(a)\n",
    "b=int(b)"
   ]
  },
  {
   "cell_type": "code",
   "execution_count": 11,
   "id": "0be0c51c",
   "metadata": {},
   "outputs": [
    {
     "name": "stdout",
     "output_type": "stream",
     "text": [
      "The Sum is 12.5\n",
      "The difference is -1.5\n",
      "The product is 38.5\n",
      "The Quotient is 0.7857142857142857\n"
     ]
    }
   ],
   "source": [
    "c=a+b\n",
    "print(\"The Sum is \"+str(c))\n",
    "c=a-b\n",
    "print(\"The difference is \"+str(c))\n",
    "c=a*b\n",
    "print(\"The product is \"+str(c))\n",
    "c=a/b\n",
    "print(\"The Quotient is \"+str(c))"
   ]
  },
  {
   "cell_type": "code",
   "execution_count": 4,
   "id": "53adcc21",
   "metadata": {},
   "outputs": [
    {
     "name": "stdout",
     "output_type": "stream",
     "text": [
      "The difference is -3.7\n"
     ]
    }
   ],
   "source": [
    "c=a-b\n",
    "print(\"The difference is \"+str(c))"
   ]
  },
  {
   "cell_type": "code",
   "execution_count": 5,
   "id": "daee8414",
   "metadata": {},
   "outputs": [
    {
     "name": "stdout",
     "output_type": "stream",
     "text": [
      "The product is 13.799999999999999\n"
     ]
    }
   ],
   "source": [
    "c=a*b\n",
    "print(\"The product is \"+str(c))"
   ]
  },
  {
   "cell_type": "code",
   "execution_count": 6,
   "id": "0d18702b",
   "metadata": {},
   "outputs": [
    {
     "name": "stdout",
     "output_type": "stream",
     "text": [
      "The Quotient is 0.3833333333333333\n"
     ]
    }
   ],
   "source": [
    "c=a/b\n",
    "print(\"The Quotient is \"+str(c))"
   ]
  },
  {
   "cell_type": "code",
   "execution_count": 7,
   "id": "6d750333",
   "metadata": {},
   "outputs": [
    {
     "ename": "NameError",
     "evalue": "name 'addition' is not defined",
     "output_type": "error",
     "traceback": [
      "\u001b[1;31m---------------------------------------------------------------------------\u001b[0m",
      "\u001b[1;31mNameError\u001b[0m                                 Traceback (most recent call last)",
      "\u001b[1;32m<ipython-input-7-8ec8bb3d50ae>\u001b[0m in \u001b[0;36m<module>\u001b[1;34m\u001b[0m\n\u001b[1;32m----> 1\u001b[1;33m \u001b[0mtype\u001b[0m\u001b[1;33m(\u001b[0m\u001b[0maddition\u001b[0m\u001b[1;33m)\u001b[0m\u001b[1;33m\u001b[0m\u001b[1;33m\u001b[0m\u001b[0m\n\u001b[0m",
      "\u001b[1;31mNameError\u001b[0m: name 'addition' is not defined"
     ]
    }
   ],
   "source": [
    "type(addition)"
   ]
  }
 ],
 "metadata": {
  "kernelspec": {
   "display_name": "Python 3",
   "language": "python",
   "name": "python3"
  },
  "language_info": {
   "codemirror_mode": {
    "name": "ipython",
    "version": 3
   },
   "file_extension": ".py",
   "mimetype": "text/x-python",
   "name": "python",
   "nbconvert_exporter": "python",
   "pygments_lexer": "ipython3",
   "version": "3.8.8"
  }
 },
 "nbformat": 4,
 "nbformat_minor": 5
}
