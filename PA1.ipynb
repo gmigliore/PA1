{
 "cells": [
  {
   "cell_type": "markdown",
   "id": "463595b0",
   "metadata": {},
   "source": [
    "PA1\n",
    "Gabriel Migliore\n",
    "Python 3\n",
    "Fall 2021"
   ]
  },
  {
   "cell_type": "code",
   "execution_count": 46,
   "id": "91f4c146",
   "metadata": {},
   "outputs": [
    {
     "name": "stdout",
     "output_type": "stream",
     "text": [
      "Enter a Floating Point Number for A\n",
      "4.3\n",
      "Enter a Integer Number for B\n",
      "8\n"
     ]
    }
   ],
   "source": [
    "print(\"Enter a Floating Point Number for A\")\n",
    "a=input()\n",
    "print(\"Enter a Integer Number for B\")\n",
    "b=input()"
   ]
  },
  {
   "cell_type": "code",
   "execution_count": 47,
   "id": "0a54a25e",
   "metadata": {},
   "outputs": [],
   "source": [
    "a=float(a)\n",
    "b=int(b)"
   ]
  },
  {
   "cell_type": "code",
   "execution_count": 48,
   "id": "0be0c51c",
   "metadata": {},
   "outputs": [
    {
     "name": "stdout",
     "output_type": "stream",
     "text": [
      "The Sum is 12.3\n"
     ]
    }
   ],
   "source": [
    "c=a+b\n",
    "print(\"The Sum is \"+str(c))"
   ]
  },
  {
   "cell_type": "code",
   "execution_count": 49,
   "id": "53adcc21",
   "metadata": {},
   "outputs": [
    {
     "name": "stdout",
     "output_type": "stream",
     "text": [
      "The difference is -3.7\n"
     ]
    }
   ],
   "source": [
    "c=a-b\n",
    "print(\"The difference is \"+str(c))"
   ]
  },
  {
   "cell_type": "code",
   "execution_count": 50,
   "id": "daee8414",
   "metadata": {},
   "outputs": [
    {
     "name": "stdout",
     "output_type": "stream",
     "text": [
      "The product is 34.4\n"
     ]
    }
   ],
   "source": [
    "c=a*b\n",
    "print(\"The product is \"+str(c))"
   ]
  },
  {
   "cell_type": "code",
   "execution_count": 51,
   "id": "0d18702b",
   "metadata": {},
   "outputs": [
    {
     "name": "stdout",
     "output_type": "stream",
     "text": [
      "The Quotient is 0.5375\n"
     ]
    }
   ],
   "source": [
    "c=a/b\n",
    "print(\"The Quotient is \"+str(c))"
   ]
  },
  {
   "cell_type": "code",
   "execution_count": 53,
   "id": "6d750333",
   "metadata": {},
   "outputs": [
    {
     "data": {
      "text/plain": [
       "int"
      ]
     },
     "execution_count": 53,
     "metadata": {},
     "output_type": "execute_result"
    }
   ],
   "source": []
  }
 ],
 "metadata": {
  "kernelspec": {
   "display_name": "Python 3",
   "language": "python",
   "name": "python3"
  },
  "language_info": {
   "codemirror_mode": {
    "name": "ipython",
    "version": 3
   },
   "file_extension": ".py",
   "mimetype": "text/x-python",
   "name": "python",
   "nbconvert_exporter": "python",
   "pygments_lexer": "ipython3",
   "version": "3.8.8"
  }
 },
 "nbformat": 4,
 "nbformat_minor": 5
}
